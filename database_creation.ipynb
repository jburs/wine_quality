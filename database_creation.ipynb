{
 "cells": [
  {
   "cell_type": "code",
   "execution_count": 2,
   "metadata": {},
   "outputs": [],
   "source": [
    "# Import Dependencies\n",
    "\n",
    "import psycopg2\n",
    "import csv\n",
    "from config import mypass"
   ]
  },
  {
   "cell_type": "markdown",
   "metadata": {},
   "source": [
    "### Connect to PostgreSQL Database"
   ]
  },
  {
   "cell_type": "code",
   "execution_count": 3,
   "metadata": {},
   "outputs": [
    {
     "name": "stdout",
     "output_type": "stream",
     "text": [
      "Connection Properites: \n",
      "\n",
      "{'user': 'postgres', 'dbname': 'postgres', 'host': '127.0.0.1', 'port': '5432', 'tty': '', 'options': '', 'sslmode': 'prefer', 'sslcompression': '0', 'krbsrvname': 'postgres', 'target_session_attrs': 'any'} \n",
      "\n",
      "You are connected to -  ('PostgreSQL 11.8, compiled by Visual C++ build 1914, 64-bit',) \n",
      "\n"
     ]
    }
   ],
   "source": [
    "\n",
    "try:\n",
    "    con = psycopg2.connect(user='postgres', password=mypass, host=\"127.0.0.1\", port=\"5432\")\n",
    "    con.autocommit = True\n",
    "    cursor = con.cursor()\n",
    "    \n",
    "    #print sql connection prperties\n",
    "    print(\"Connection Properites: \\n\")\n",
    "    print(con.get_dsn_parameters(),\"\\n\")\n",
    "    \n",
    "    #print PostgreSQL version\n",
    "    cursor.execute(\"SELECT version();\")\n",
    "    db_version = cursor.fetchone()\n",
    "    print(\"You are connected to - \", db_version,\"\\n\")\n",
    "    \n",
    "except (Exception, psychopg2.Error) as error:\n",
    "    print(\"Error while connectiong to postgreSQL\", error)"
   ]
  },
  {
   "cell_type": "markdown",
   "metadata": {},
   "source": [
    "### Create database, tables, and load data"
   ]
  },
  {
   "cell_type": "code",
   "execution_count": 4,
   "metadata": {},
   "outputs": [
    {
     "name": "stdout",
     "output_type": "stream",
     "text": [
      "Database does not exist\n",
      "Database already exists\n"
     ]
    }
   ],
   "source": [
    "# Drop existing wine database\n",
    "try:\n",
    "    cursor.execute('''DROP DATABASE wine;''')\n",
    "    print ('Database dropped')\n",
    "except:\n",
    "    print ('Database does not exist')\n",
    "con.commit()    \n",
    "\n",
    "# Create wine Database\n",
    "try:\n",
    "    cursor.execute('''CREATE DATABASE wine;''')\n",
    "    print(\"Database created\")\n",
    "except:\n",
    "    \n",
    "    print('Database already exists')\n",
    "con.commit()\n",
    "\n",
    "\n",
    "# Close connection to the database\n",
    "con.close()"
   ]
  },
  {
   "cell_type": "code",
   "execution_count": 4,
   "metadata": {},
   "outputs": [
    {
     "name": "stdout",
     "output_type": "stream",
     "text": [
      "wine database opened successfully\n"
     ]
    }
   ],
   "source": [
    "# Connect to wine Database\n",
    "try:\n",
    "    con = psycopg2.connect(database='wine', user='postgres', password=mypass, host='127.0.0.1', port='5432')\n",
    "    print('wine database opened successfully')\n",
    "    cursor = con.cursor()\n",
    "    \n",
    "except (Exception, psychopg2.Error) as error:\n",
    "    print(\"Error while connectiong to wine database\", error)"
   ]
  },
  {
   "cell_type": "code",
   "execution_count": 5,
   "metadata": {},
   "outputs": [
    {
     "name": "stdout",
     "output_type": "stream",
     "text": [
      "red wine table created successfully\n"
     ]
    }
   ],
   "source": [
    "# Create table red_wine\n",
    "\n",
    "cursor.execute('''CREATE TABLE red_wine (\n",
    "    \"ID_red\" SMALLINT,\n",
    "    \"fixed_acidity\" FLOAT(2),\n",
    "    \"volatile_acidity\" FLOAT(3),\n",
    "    \"citric_acid\" FLOAT(3),\n",
    "    \"residual_sugar\" FLOAT(1),\n",
    "    chlorides FLOAT(4),\n",
    "    \"free_sulfur_dioxide\" FLOAT(4),\n",
    "    \"total_sulfur_dioxide\" Float(1),\n",
    "    density FLOAT(4),\n",
    "    pH FLOAT(2),\n",
    "    sulphates FLOAT(2),\n",
    "    alcohol FLOAT(1),\n",
    "    quality SMALLINT,\n",
    "    PRIMARY KEY (\"ID_red\")\n",
    "    );''')\n",
    "print(\"red wine table created successfully\")\n",
    "\n",
    "con.commit()"
   ]
  },
  {
   "cell_type": "code",
   "execution_count": 6,
   "metadata": {},
   "outputs": [
    {
     "name": "stdout",
     "output_type": "stream",
     "text": [
      "white wine table created successfully\n"
     ]
    }
   ],
   "source": [
    "# Create table white_wine\n",
    "\n",
    "cursor.execute('''CREATE TABLE white_wine (\n",
    "    \"ID_white\" SMALLINT,\n",
    "    \"fixed_acidity\" FLOAT(2),\n",
    "    \"volatile_acidity\" FLOAT(3),\n",
    "    \"citric_acid\" FLOAT(3),\n",
    "    \"residual_sugar\" FLOAT(1),\n",
    "    chlorides FLOAT(4),\n",
    "    \"free_sulfur_dioxide\" FLOAT(4),\n",
    "    \"total_sulfur_dioxide\" Float(1),\n",
    "    density FLOAT(4),\n",
    "    pH FLOAT(2),\n",
    "    sulphates FLOAT(2),\n",
    "    alcohol FLOAT(1),\n",
    "    quality SMALLINT,\n",
    "    PRIMARY KEY (\"ID_white\")\n",
    "    );''')\n",
    "print(\"white wine table created successfully\")\n",
    "\n",
    "con.commit()"
   ]
  },
  {
   "cell_type": "code",
   "execution_count": 7,
   "metadata": {},
   "outputs": [
    {
     "name": "stdout",
     "output_type": "stream",
     "text": [
      "Red Data Loaded Successfully\n",
      "White Data Loaded Successfully\n"
     ]
    }
   ],
   "source": [
    "# Load csv into wine tables\n",
    "\n",
    "with open('resources/wineQualityReds.csv', 'r') as file:\n",
    "    next(file) # skip header row\n",
    "    cursor.copy_from(file, 'red_wine', sep=',', null='')\n",
    "    print('Red Data Loaded Successfully')\n",
    "\n",
    "con.commit()\n",
    "\n",
    "with open('resources/wineQualityWhites.csv', 'r') as file:\n",
    "    next(file) # skip header row\n",
    "    cursor.copy_from(file, 'white_wine', sep=',', null='')\n",
    "    print('White Data Loaded Successfully')\n",
    "\n",
    "con.commit()"
   ]
  },
  {
   "cell_type": "code",
   "execution_count": 8,
   "metadata": {},
   "outputs": [
    {
     "name": "stdout",
     "output_type": "stream",
     "text": [
      "Closed successfully\n"
     ]
    }
   ],
   "source": [
    "# Close connection to database\n",
    "con.close()\n",
    "print(\"Closed successfully\")"
   ]
  },
  {
   "cell_type": "code",
   "execution_count": null,
   "metadata": {},
   "outputs": [],
   "source": []
  }
 ],
 "metadata": {
  "kernelspec": {
   "display_name": "Python 3",
   "language": "python",
   "name": "python3"
  },
  "language_info": {
   "codemirror_mode": {
    "name": "ipython",
    "version": 3
   },
   "file_extension": ".py",
   "mimetype": "text/x-python",
   "name": "python",
   "nbconvert_exporter": "python",
   "pygments_lexer": "ipython3",
   "version": "3.7.4"
  }
 },
 "nbformat": 4,
 "nbformat_minor": 2
}
