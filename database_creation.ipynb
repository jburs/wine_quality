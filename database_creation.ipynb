{
 "cells": [
  {
   "cell_type": "code",
   "execution_count": 1,
   "metadata": {},
   "outputs": [],
   "source": [
    "# Import Dependencies\n",
    "\n",
    "import psycopg2\n",
    "import csv\n",
    "from config import mypass"
   ]
  },
  {
   "cell_type": "markdown",
   "metadata": {},
   "source": [
    "### Connect to PostgreSQL Database"
   ]
  },
  {
   "cell_type": "code",
   "execution_count": 2,
   "metadata": {},
   "outputs": [
    {
     "name": "stdout",
     "output_type": "stream",
     "text": [
      "Connection Properites: \n",
      "\n",
      "{'user': 'postgres', 'dbname': 'postgres', 'host': '127.0.0.1', 'port': '5432', 'tty': '', 'options': '', 'sslmode': 'prefer', 'sslcompression': '0', 'krbsrvname': 'postgres', 'target_session_attrs': 'any'} \n",
      "\n",
      "You are connected to -  ('PostgreSQL 11.8, compiled by Visual C++ build 1914, 64-bit',) \n",
      "\n"
     ]
    }
   ],
   "source": [
    "\n",
    "try:\n",
    "    con = psycopg2.connect(user='postgres', password=mypass, host=\"127.0.0.1\", port=\"5432\")\n",
    "    con.autocommit = True\n",
    "    cursor = con.cursor()\n",
    "    \n",
    "    #print sql connection prperties\n",
    "    print(\"Connection Properites: \\n\")\n",
    "    print(con.get_dsn_parameters(),\"\\n\")\n",
    "    \n",
    "    #print PostgreSQL version\n",
    "    cursor.execute(\"SELECT version();\")\n",
    "    db_version = cursor.fetchone()\n",
    "    print(\"You are connected to - \", db_version,\"\\n\")\n",
    "    \n",
    "except (Exception, psychopg2.Error) as error:\n",
    "    print(\"Error while connectiong to postgreSQL\", error)"
   ]
  },
  {
   "cell_type": "markdown",
   "metadata": {},
   "source": [
    "### Create database, tables, and load data"
   ]
  },
  {
   "cell_type": "code",
   "execution_count": 4,
   "metadata": {},
   "outputs": [
    {
     "ename": "ObjectInUse",
     "evalue": "database \"wine\" is being accessed by other users\nDETAIL:  There are 4 other sessions using the database.\n",
     "output_type": "error",
     "traceback": [
      "\u001b[1;31m---------------------------------------------------------------------------\u001b[0m",
      "\u001b[1;31mObjectInUse\u001b[0m                               Traceback (most recent call last)",
      "\u001b[1;32m<ipython-input-4-0b0d29d21547>\u001b[0m in \u001b[0;36m<module>\u001b[1;34m\u001b[0m\n\u001b[0;32m      2\u001b[0m \u001b[1;32mtry\u001b[0m\u001b[1;33m:\u001b[0m\u001b[1;33m\u001b[0m\u001b[1;33m\u001b[0m\u001b[0m\n\u001b[1;32m----> 3\u001b[1;33m     \u001b[0mcursor\u001b[0m\u001b[1;33m.\u001b[0m\u001b[0mexecute\u001b[0m\u001b[1;33m(\u001b[0m\u001b[1;34m'''DROP DATABASE wine;'''\u001b[0m\u001b[1;33m)\u001b[0m\u001b[1;33m\u001b[0m\u001b[1;33m\u001b[0m\u001b[0m\n\u001b[0m\u001b[0;32m      4\u001b[0m     \u001b[0mprint\u001b[0m \u001b[1;33m(\u001b[0m\u001b[1;34m'Database dropped'\u001b[0m\u001b[1;33m)\u001b[0m\u001b[1;33m\u001b[0m\u001b[1;33m\u001b[0m\u001b[0m\n",
      "\u001b[1;31mObjectInUse\u001b[0m: database \"wine\" is being accessed by other users\nDETAIL:  There are 4 other sessions using the database.\n",
      "\nDuring handling of the above exception, another exception occurred:\n",
      "\u001b[1;31mObjectInUse\u001b[0m                               Traceback (most recent call last)",
      "\u001b[1;32m<ipython-input-4-0b0d29d21547>\u001b[0m in \u001b[0;36m<module>\u001b[1;34m\u001b[0m\n\u001b[0;32m      4\u001b[0m     \u001b[0mprint\u001b[0m \u001b[1;33m(\u001b[0m\u001b[1;34m'Database dropped'\u001b[0m\u001b[1;33m)\u001b[0m\u001b[1;33m\u001b[0m\u001b[1;33m\u001b[0m\u001b[0m\n\u001b[0;32m      5\u001b[0m \u001b[1;32mexcept\u001b[0m\u001b[1;33m:\u001b[0m\u001b[1;33m\u001b[0m\u001b[1;33m\u001b[0m\u001b[0m\n\u001b[1;32m----> 6\u001b[1;33m     \u001b[0mcursor\u001b[0m\u001b[1;33m.\u001b[0m\u001b[0mexecute\u001b[0m\u001b[1;33m(\u001b[0m\u001b[1;34m'''DROP DATABASE IF EXISTS wine;'''\u001b[0m\u001b[1;33m)\u001b[0m\u001b[1;33m\u001b[0m\u001b[1;33m\u001b[0m\u001b[0m\n\u001b[0m\u001b[0;32m      7\u001b[0m     \u001b[0mprint\u001b[0m \u001b[1;33m(\u001b[0m\u001b[1;34m'Database does not exist'\u001b[0m\u001b[1;33m)\u001b[0m\u001b[1;33m\u001b[0m\u001b[1;33m\u001b[0m\u001b[0m\n\u001b[0;32m      8\u001b[0m \u001b[0mcon\u001b[0m\u001b[1;33m.\u001b[0m\u001b[0mcommit\u001b[0m\u001b[1;33m(\u001b[0m\u001b[1;33m)\u001b[0m\u001b[1;33m\u001b[0m\u001b[1;33m\u001b[0m\u001b[0m\n",
      "\u001b[1;31mObjectInUse\u001b[0m: database \"wine\" is being accessed by other users\nDETAIL:  There are 4 other sessions using the database.\n"
     ]
    }
   ],
   "source": [
    "# Drop existing wine database\n",
    "try:\n",
    "    cursor.execute('''DROP DATABASE wine;''')\n",
    "    print ('Database dropped')\n",
    "except:\n",
    "    cursor.execute('''DROP DATABASE IF EXISTS wine;''')\n",
    "    print ('Database does not exist')\n",
    "con.commit()    \n",
    "\n",
    "# Create wine Database\n",
    "try:\n",
    "    cursor.execute('''CREATE DATABASE wine;''')\n",
    "    print(\"Database created\")\n",
    "except:\n",
    "    \n",
    "    print('Database already exists')\n",
    "con.commit()\n",
    "\n",
    "\n",
    "# Close connection to the database\n",
    "con.close()"
   ]
  },
  {
   "cell_type": "code",
   "execution_count": null,
   "metadata": {},
   "outputs": [],
   "source": [
    "# Connect to wine Database\n",
    "try:\n",
    "    con = psycopg2.connect(database='wine', user='postgres', password=mypass, host='127.0.0.1', port='5432')\n",
    "    print('wine database opened successfully')\n",
    "    cursor = con.cursor()\n",
    "    \n",
    "except (Exception, psychopg2.Error) as error:\n",
    "    print(\"Error while connectiong to wine database\", error)"
   ]
  },
  {
   "cell_type": "code",
   "execution_count": null,
   "metadata": {},
   "outputs": [],
   "source": [
    "# Create table red_wine\n",
    "\n",
    "cursor.execute('''CREATE TABLE red_wine (\n",
    "    \"ID_red\" SMALLINT,\n",
    "    \"fixed_acidity\" FLOAT(2),\n",
    "    \"volatile_acidity\" FLOAT(3),\n",
    "    \"citric_acid\" FLOAT(3),\n",
    "    \"residual_sugar\" FLOAT(1),\n",
    "    chlorides FLOAT(4),\n",
    "    \"free_sulfur_dioxide\" FLOAT(4),\n",
    "    \"total_sulfur_dioxide\" Float(1),\n",
    "    density FLOAT(4),\n",
    "    pH FLOAT(2),\n",
    "    sulphates FLOAT(2),\n",
    "    alcohol FLOAT(1),\n",
    "    quality SMALLINT,\n",
    "    PRIMARY KEY (\"ID_red\")\n",
    "    );''')\n",
    "print(\"red wine table created successfully\")\n",
    "\n",
    "con.commit()"
   ]
  },
  {
   "cell_type": "code",
   "execution_count": null,
   "metadata": {},
   "outputs": [],
   "source": [
    "# Create table white_wine\n",
    "\n",
    "cursor.execute('''CREATE TABLE white_wine (\n",
    "    \"ID_white\" SMALLINT,\n",
    "    \"fixed_acidity\" FLOAT(2),\n",
    "    \"volatile_acidity\" FLOAT(3),\n",
    "    \"citric_acid\" FLOAT(3),\n",
    "    \"residual_sugar\" FLOAT(1),\n",
    "    chlorides FLOAT(4),\n",
    "    \"free_sulfur_dioxide\" FLOAT(4),\n",
    "    \"total_sulfur_dioxide\" Float(1),\n",
    "    density FLOAT(4),\n",
    "    pH FLOAT(2),\n",
    "    sulphates FLOAT(2),\n",
    "    alcohol FLOAT(1),\n",
    "    quality SMALLINT,\n",
    "    PRIMARY KEY (\"ID_white\")\n",
    "    );''')\n",
    "print(\"white wine table created successfully\")\n",
    "\n",
    "con.commit()"
   ]
  },
  {
   "cell_type": "code",
   "execution_count": null,
   "metadata": {},
   "outputs": [],
   "source": [
    "# Load csv into wine tables\n",
    "\n",
    "with open('resources/wineQualityReds.csv', 'r') as file:\n",
    "    next(file) # skip header row\n",
    "    cursor.copy_from(file, 'red_wine', sep=',', null='')\n",
    "    print('Red Data Loaded Successfully')\n",
    "\n",
    "con.commit()\n",
    "\n",
    "with open('resources/wineQualityWhites.csv', 'r') as file:\n",
    "    next(file) # skip header row\n",
    "    cursor.copy_from(file, 'white_wine', sep=',', null='')\n",
    "    print('White Data Loaded Successfully')\n",
    "\n",
    "con.commit()"
   ]
  },
  {
   "cell_type": "code",
   "execution_count": null,
   "metadata": {},
   "outputs": [],
   "source": [
    "# Close connection to database\n",
    "con.close()\n",
    "print(\"Closed successfully\")"
   ]
  },
  {
   "cell_type": "code",
   "execution_count": null,
   "metadata": {},
   "outputs": [],
   "source": []
  }
 ],
 "metadata": {
  "kernelspec": {
   "display_name": "Python 3",
   "language": "python",
   "name": "python3"
  },
  "language_info": {
   "codemirror_mode": {
    "name": "ipython",
    "version": 3
   },
   "file_extension": ".py",
   "mimetype": "text/x-python",
   "name": "python",
   "nbconvert_exporter": "python",
   "pygments_lexer": "ipython3",
   "version": "3.7.4"
  }
 },
 "nbformat": 4,
 "nbformat_minor": 2
}
